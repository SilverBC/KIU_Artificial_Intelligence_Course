{
 "cells": [
  {
   "cell_type": "markdown",
   "metadata": {},
   "source": [
    "Pomegranate, a Python library, facilitates efficient implementation of diverse probabilistic models, from simple distributions to complex structures like Bayesian networks and hidden Markov models. It treats all models as probability distributions, enabling flexible construction and integration, including mixing distribution types and innovatively combining Bayesian networks.\n",
    "\n",
    "\n",
    "Installation with pip: \n",
    "* pip install pomegranate\n",
    "* we are using pip install pomegranate==v10.14.9 due to compatibility issues in the newest version\n",
    "\n",
    "Installation with Github:\n",
    "* git clone https://github.com/jmschrei/pomegranate\n",
    "* cd pomegranate\n",
    "* python setup.py install\n",
    "\n",
    "Examples below illustrate some basic applications of the pomegranate library. "
   ]
  },
  {
   "cell_type": "markdown",
   "metadata": {},
   "source": [
    "### Example 1: Determining Chances of Attendance\n",
    "\n",
    "The following code is Bayesian network to model the relationships between rain, track maintenance, train delays, and appointment attendance."
   ]
  },
  {
   "cell_type": "code",
   "execution_count": 31,
   "metadata": {},
   "outputs": [
    {
     "ename": "ImportError",
     "evalue": "cannot import name 'Node' from 'pomegranate' (c:\\Users\\user\\AppData\\Local\\Programs\\Python\\Python310\\lib\\site-packages\\pomegranate\\__init__.py)",
     "output_type": "error",
     "traceback": [
      "\u001b[1;31m---------------------------------------------------------------------------\u001b[0m",
      "\u001b[1;31mImportError\u001b[0m                               Traceback (most recent call last)",
      "Cell \u001b[1;32mIn [31], line 1\u001b[0m\n\u001b[1;32m----> 1\u001b[0m \u001b[38;5;28;01mfrom\u001b[39;00m \u001b[38;5;21;01mpomegranate\u001b[39;00m \u001b[38;5;28;01mimport\u001b[39;00m Node, DiscreteDistribution, ConditionalProbabilityTable, BayesianNetwork\n\u001b[0;32m      3\u001b[0m \u001b[38;5;66;03m# Rain node has no parents\u001b[39;00m\n\u001b[0;32m      4\u001b[0m rain \u001b[38;5;241m=\u001b[39m Node(DiscreteDistribution({\n\u001b[0;32m      5\u001b[0m     \u001b[38;5;124m\"\u001b[39m\u001b[38;5;124mnone\u001b[39m\u001b[38;5;124m\"\u001b[39m: \u001b[38;5;241m0.7\u001b[39m,\n\u001b[0;32m      6\u001b[0m     \u001b[38;5;124m\"\u001b[39m\u001b[38;5;124mlight\u001b[39m\u001b[38;5;124m\"\u001b[39m: \u001b[38;5;241m0.2\u001b[39m,\n\u001b[0;32m      7\u001b[0m     \u001b[38;5;124m\"\u001b[39m\u001b[38;5;124mheavy\u001b[39m\u001b[38;5;124m\"\u001b[39m: \u001b[38;5;241m0.1\u001b[39m\n\u001b[0;32m      8\u001b[0m }), name\u001b[38;5;241m=\u001b[39m\u001b[38;5;124m\"\u001b[39m\u001b[38;5;124mrain\u001b[39m\u001b[38;5;124m\"\u001b[39m)\n",
      "\u001b[1;31mImportError\u001b[0m: cannot import name 'Node' from 'pomegranate' (c:\\Users\\user\\AppData\\Local\\Programs\\Python\\Python310\\lib\\site-packages\\pomegranate\\__init__.py)"
     ]
    }
   ],
   "source": [
    "from pomegranate import Node, DiscreteDistribution, ConditionalProbabilityTable, BayesianNetwork\n",
    "\n",
    "# Rain node has no parents\n",
    "rain = Node(DiscreteDistribution({\n",
    "    \"none\": 0.7,\n",
    "    \"light\": 0.2,\n",
    "    \"heavy\": 0.1\n",
    "}), name=\"rain\")\n",
    "\n",
    "# Track maintenance node is conditional on rain\n",
    "maintenance = Node(ConditionalProbabilityTable([\n",
    "    [\"none\", \"yes\", 0.4],\n",
    "    [\"none\", \"no\", 0.6],\n",
    "    [\"light\", \"yes\", 0.2],\n",
    "    [\"light\", \"no\", 0.8],\n",
    "    [\"heavy\", \"yes\", 0.1],\n",
    "    [\"heavy\", \"no\", 0.9]\n",
    "], [rain.distribution]), name=\"maintenance\")\n",
    "\n",
    "# Train node is conditional on rain and maintenance\n",
    "train = Node(ConditionalProbabilityTable([\n",
    "    [\"none\", \"yes\", \"on time\", 0.8],\n",
    "    [\"none\", \"yes\", \"delayed\", 0.2],\n",
    "    [\"none\", \"no\", \"on time\", 0.9],\n",
    "    [\"none\", \"no\", \"delayed\", 0.1],\n",
    "    [\"light\", \"yes\", \"on time\", 0.6],\n",
    "    [\"light\", \"yes\", \"delayed\", 0.4],\n",
    "    [\"light\", \"no\", \"on time\", 0.7],\n",
    "    [\"light\", \"no\", \"delayed\", 0.3],\n",
    "    [\"heavy\", \"yes\", \"on time\", 0.4],\n",
    "    [\"heavy\", \"yes\", \"delayed\", 0.6],\n",
    "    [\"heavy\", \"no\", \"on time\", 0.5],\n",
    "    [\"heavy\", \"no\", \"delayed\", 0.5],\n",
    "], [rain.distribution, maintenance.distribution]), name=\"train\")\n",
    "\n",
    "# Appointment node is conditional on train\n",
    "appointment = Node(ConditionalProbabilityTable([\n",
    "    [\"on time\", \"attend\", 0.9],\n",
    "    [\"on time\", \"miss\", 0.1],\n",
    "    [\"delayed\", \"attend\", 0.6],\n",
    "    [\"delayed\", \"miss\", 0.4]\n",
    "], [train.distribution]), name=\"appointment\")\n",
    "\n",
    "# Create a Bayesian Network and add states\n",
    "model = BayesianNetwork()\n",
    "model.add_states(rain, maintenance, train, appointment)\n",
    "\n",
    "# Add edges connecting nodes\n",
    "model.add_edge(rain, maintenance)\n",
    "model.add_edge(rain, train)\n",
    "model.add_edge(maintenance, train)\n",
    "model.add_edge(train, appointment)\n",
    "\n",
    "# Finalize model\n",
    "model.bake()"
   ]
  },
  {
   "cell_type": "markdown",
   "metadata": {},
   "source": [
    "The following code uses the model to infer the impact of a delayed train on the probabilities of other events."
   ]
  },
  {
   "cell_type": "code",
   "execution_count": null,
   "metadata": {},
   "outputs": [],
   "source": [
    "from model import model\n",
    "\n",
    "# Calculate predictions\n",
    "predictions = model.predict_proba({\n",
    "    \"train\": \"delayed\"\n",
    "})\n",
    "\n",
    "# Print predictions for each node\n",
    "for node, prediction in zip(model.states, predictions):\n",
    "    if isinstance(prediction, str):\n",
    "        print(f\"{node.name}: {prediction}\")\n",
    "    else:\n",
    "        print(f\"{node.name}\")\n",
    "        for value, probability in prediction.parameters[0].items():\n",
    "            print(f\"    {value}: {probability:.4f}\")"
   ]
  },
  {
   "cell_type": "markdown",
   "metadata": {},
   "source": [
    "The following code uses the model to calculate probability of a specific sequence of events occurring, which in this example, represents a scenario with no rain, no maintenance, an on-time train, and attending an appointment."
   ]
  },
  {
   "cell_type": "code",
   "execution_count": null,
   "metadata": {},
   "outputs": [],
   "source": [
    "from model import model\n",
    "\n",
    "# Calculate probability for a given observation\n",
    "probability = model.probability([[\"none\", \"no\", \"on time\", \"attend\"]])\n",
    "\n",
    "print(probability)"
   ]
  },
  {
   "cell_type": "markdown",
   "metadata": {},
   "source": [
    "The following code demonstrates how to perform sampling and rejection sampling with a Bayesian network model"
   ]
  },
  {
   "cell_type": "code",
   "execution_count": null,
   "metadata": {},
   "outputs": [],
   "source": [
    "import pomegranate\n",
    "\n",
    "from collections import Counter\n",
    "\n",
    "from model import model\n",
    "\n",
    "def generate_sample():\n",
    "\n",
    "    # Mapping of random variable name to sample generated\n",
    "    sample = {}\n",
    "\n",
    "    # Mapping of distribution to sample generated\n",
    "    parents = {}\n",
    "\n",
    "    # Loop over all states, assuming topological order\n",
    "    for state in model.states:\n",
    "\n",
    "        # If we have a non-root node, sample conditional on parents\n",
    "        if isinstance(state.distribution, pomegranate.ConditionalProbabilityTable):\n",
    "            sample[state.name] = state.distribution.sample(parent_values=parents)\n",
    "\n",
    "        # Otherwise, just sample from the distribution alone\n",
    "        else:\n",
    "            sample[state.name] = state.distribution.sample()\n",
    "\n",
    "        # Keep track of the sampled value in the parents mapping\n",
    "        parents[state.distribution] = sample[state.name]\n",
    "\n",
    "    # Return generated sample\n",
    "    return sample\n",
    "\n",
    "# Rejection sampling\n",
    "# Compute distribution of Appointment given that train is delayed\n",
    "N = 10000\n",
    "data = []\n",
    "for i in range(N):\n",
    "    sample = generate_sample()\n",
    "    if sample[\"train\"] == \"delayed\":\n",
    "        data.append(sample[\"appointment\"])\n",
    "print(Counter(data))\n"
   ]
  },
  {
   "cell_type": "markdown",
   "metadata": {},
   "source": [
    "### Example 2: Hidden Markov Chain for predicting Sunny and Rainy days\n",
    "\n",
    "The following code predicts sun and rain based on hidden markov assumption, with the observed data being whether people brought umbrellas or not. First we create the model with the probability distributions. "
   ]
  },
  {
   "cell_type": "code",
   "execution_count": null,
   "metadata": {},
   "outputs": [],
   "source": [
    "from pomegranate import *\n",
    "\n",
    "# Observation model for each state\n",
    "sun = DiscreteDistribution({\n",
    "    \"umbrella\": 0.2,\n",
    "    \"no umbrella\": 0.8\n",
    "})\n",
    "\n",
    "rain = DiscreteDistribution({\n",
    "    \"umbrella\": 0.9,\n",
    "    \"no umbrella\": 0.1\n",
    "})\n",
    "\n",
    "states = [sun, rain]\n",
    "\n",
    "# Transition model\n",
    "transitions = numpy.array(\n",
    "    [[0.8, 0.2], # Tomorrow's predictions if today = sun\n",
    "     [0.3, 0.7]] # Tomorrow's predictions if today = rain\n",
    ")\n",
    "\n",
    "# Starting probabilities\n",
    "starts = numpy.array([0.5, 0.5])\n",
    "\n",
    "# Create the model\n",
    "model = HiddenMarkovModel.from_matrix(\n",
    "    transitions, states, starts,\n",
    "    state_names=[\"sun\", \"rain\"]\n",
    ")\n",
    "model.bake()"
   ]
  },
  {
   "cell_type": "markdown",
   "metadata": {},
   "source": [
    "Then we construct the markov chain itself, inputting the data we have gathered regarding whether or not umbrellas were present in the past few days and proceed with making predictions."
   ]
  },
  {
   "cell_type": "code",
   "execution_count": null,
   "metadata": {},
   "outputs": [],
   "source": [
    "from model import model\n",
    "\n",
    "# Observed data\n",
    "observations = [\n",
    "    \"umbrella\",\n",
    "    \"umbrella\",\n",
    "    \"no umbrella\",\n",
    "    \"umbrella\",\n",
    "    \"umbrella\",\n",
    "    \"umbrella\",\n",
    "    \"umbrella\",\n",
    "    \"no umbrella\",\n",
    "    \"no umbrella\"\n",
    "]\n",
    "\n",
    "# Predict underlying states\n",
    "predictions = model.predict(observations)\n",
    "for prediction in predictions:\n",
    "    print(model.states[prediction].name)"
   ]
  }
 ],
 "metadata": {
  "kernelspec": {
   "display_name": "Python 3",
   "language": "python",
   "name": "python3"
  },
  "language_info": {
   "codemirror_mode": {
    "name": "ipython",
    "version": 3
   },
   "file_extension": ".py",
   "mimetype": "text/x-python",
   "name": "python",
   "nbconvert_exporter": "python",
   "pygments_lexer": "ipython3",
   "version": "3.10.8"
  }
 },
 "nbformat": 4,
 "nbformat_minor": 2
}
