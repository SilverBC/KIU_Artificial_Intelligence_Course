{
 "cells": [
  {
   "cell_type": "markdown",
   "metadata": {},
   "source": [
    "Before Getting into building a primitive GPT model, we should first understand what GPT model is and it's building blocks, namely Transformers, which as themselves are based on Attention. \n",
    "\n",
    "Here are some useful videos for high level overview and vizualization of the subject: \n",
    "1) https://www.youtube.com/watch?v=wjZofJX0v4M - What is a GPT\n",
    "2) https://www.youtube.com/watch?v=eMlx5fFNoYc - Attention in Transformers Visualized \n",
    "\n",
    "More in depth videos: \n",
    "1) https://www.youtube.com/watch?v=PSs6nxngL6k - Attention\n",
    "2) https://www.youtube.com/watch?v=zxQyTK8quyY&t=1690s - Transformers\n",
    "3) https://www.youtube.com/watch?v=bQ5BoolX9Ag - Decoder-only Transformers\n"
   ]
  }
 ],
 "metadata": {
  "language_info": {
   "name": "python"
  }
 },
 "nbformat": 4,
 "nbformat_minor": 2
}
